{
 "cells": [
  {
   "cell_type": "code",
   "execution_count": 11,
   "metadata": {
    "executionInfo": {
     "elapsed": 370,
     "status": "ok",
     "timestamp": 1634720109239,
     "user": {
      "displayName": "Mathieu Lagrange",
      "photoUrl": "https://lh3.googleusercontent.com/a-/AOh14GgC8MDizicP3YRJFRdQodQTaRKwwya4aQsQsOajpg=s64",
      "userId": "03184730055163654770"
     },
     "user_tz": -120
    },
    "id": "08907763-6b1a-4eb7-83d8-02c9262a6315"
   },
   "outputs": [],
   "source": [
    "from os import listdir\n",
    "from os.path import isdir, join\n",
    "import json\n",
    "import numpy as np\n",
    "import tqdm.notebook as tqdm"
   ]
  },
  {
   "cell_type": "code",
   "execution_count": 7,
   "metadata": {
    "colab": {
     "base_uri": "https://localhost:8080/",
     "height": 286
    },
    "executionInfo": {
     "elapsed": 1024,
     "status": "error",
     "timestamp": 1634720114122,
     "user": {
      "displayName": "Mathieu Lagrange",
      "photoUrl": "https://lh3.googleusercontent.com/a-/AOh14GgC8MDizicP3YRJFRdQodQTaRKwwya4aQsQsOajpg=s64",
      "userId": "03184730055163654770"
     },
     "user_tz": -120
    },
    "id": "b1352632-b55e-47d3-9952-5bea1754c764",
    "outputId": "a64d092c-4620-47aa-b9b0-26238ade3429"
   },
   "outputs": [
    {
     "name": "stdout",
     "output_type": "stream",
     "text": [
      "22\n"
     ]
    }
   ],
   "source": [
    "jsonPath = 'geojson/'\n",
    "files = [f for f in listdir(jsonPath) if isdir(join(jsonPath, f))]\n",
    "\n",
    "# with open('fileNames.txt', 'w') as f:\n",
    "#     for item in files:\n",
    "#         f.write(\"%s\\n\" % item)\n",
    "\n",
    "bands = ['leq_100', 'leq_125', 'leq_160', 'leq_200', 'leq_250', 'leq_315', 'leq_400', 'leq_500', 'leq_630', 'leq_800', 'leq_1000', 'leq_1250', 'leq_1600', 'leq_2000', 'leq_2500', 'leq_3150', 'leq_4000', 'leq_5000', 'leq_6300', 'leq_8000', 'leq_10000', 'leq_12500']\n",
    "print(len(bands))\n",
    "extraBins = 7"
   ]
  },
  {
   "cell_type": "code",
   "execution_count": 17,
   "metadata": {
    "id": "26750c35-3ea1-44d6-ac3d-8e1e2c75938e"
   },
   "outputs": [
    {
     "data": {
      "application/vnd.jupyter.widget-view+json": {
       "model_id": "9e3a8eb604e24835907b238ccf1cf121",
       "version_major": 2,
       "version_minor": 0
      },
      "text/plain": [
       "  0%|          | 0/881 [00:00<?, ?it/s]"
      ]
     },
     "metadata": {},
     "output_type": "display_data"
    }
   ],
   "source": [
    "tf = []\n",
    "with open('fileNames.txt', 'w') as fid:\n",
    "    for f in tqdm.tqdm(files):\n",
    "        with open(jsonPath+f+'/track.geojson') as f:\n",
    "            data = json.load(f)\n",
    "            tob = np.zeros((len(data['features']), len(bands)+extraBins))\n",
    "            for di, d in enumerate(data['features']):\n",
    "                for bi, b in enumerate(bands):\n",
    "                    if bi == 0:\n",
    "                        for k in range(extraBins):\n",
    "                            tob[di, k] = 0 # (d['properties'][b])\n",
    "                    tob[di, bi+extraBins] = (d['properties'][b])\n",
    "            tf.append(tob)\n",
    "            fid.write(\"%s\\n\" % f)"
   ]
  },
  {
   "cell_type": "code",
   "execution_count": 19,
   "metadata": {
    "id": "1f98f02f-c527-4b6c-9647-f983f112b2d3",
    "outputId": "3b6e7076-3d6f-4a5f-c251-b6a637359b4a"
   },
   "outputs": [],
   "source": [
    "np.save('/Users/lagrange/experiments/censeModels/data/nantes_SlowZeros_spectralData.npy',tf, allow_pickle=True)"
   ]
  },
  {
   "cell_type": "code",
   "execution_count": 15,
   "metadata": {
    "id": "6faad7f9-df1f-48f3-800c-d5f0b89b0a63"
   },
   "outputs": [],
   "source": [
    "t = np.load('/Users/lagrange/experiments/censeModels/data/nantes_Slow_spectralDatav2.npy', allow_pickle=True)"
   ]
  },
  {
   "cell_type": "code",
   "execution_count": 3,
   "metadata": {
    "id": "bfbd4c41-fc30-4693-aa74-f8a2b6de1243",
    "outputId": "21f595d4-15ea-48a3-8762-9de87101336a"
   },
   "outputs": [
    {
     "name": "stdout",
     "output_type": "stream",
     "text": [
      "(170, 29)\n"
     ]
    }
   ],
   "source": [
    "print(t[0].shape)"
   ]
  },
  {
   "cell_type": "code",
   "execution_count": 16,
   "metadata": {
    "id": "8c0be1e6-62ff-4c9c-863c-1c9cfb0f0d07",
    "outputId": "2a76991c-d047-48ca-c0f7-5ed06f4a70d2"
   },
   "outputs": [
    {
     "name": "stdout",
     "output_type": "stream",
     "text": [
      "881\n"
     ]
    }
   ],
   "source": [
    "print(len(t))"
   ]
  },
  {
   "cell_type": "code",
   "execution_count": 6,
   "metadata": {
    "id": "c079ada8-d6d6-4356-a5d4-0b78d0e18f90"
   },
   "outputs": [
    {
     "name": "stdout",
     "output_type": "stream",
     "text": [
      "881\n"
     ]
    }
   ],
   "source": [
    "print(len(files))"
   ]
  },
  {
   "cell_type": "code",
   "execution_count": null,
   "metadata": {},
   "outputs": [],
   "source": []
  }
 ],
 "metadata": {
  "colab": {
   "name": "json2npy.ipynb",
   "provenance": []
  },
  "kernelspec": {
   "display_name": "Python 3",
   "language": "python",
   "name": "python3"
  },
  "language_info": {
   "codemirror_mode": {
    "name": "ipython",
    "version": 3
   },
   "file_extension": ".py",
   "mimetype": "text/x-python",
   "name": "python",
   "nbconvert_exporter": "python",
   "pygments_lexer": "ipython3",
   "version": "3.8.5"
  }
 },
 "nbformat": 4,
 "nbformat_minor": 5
}
